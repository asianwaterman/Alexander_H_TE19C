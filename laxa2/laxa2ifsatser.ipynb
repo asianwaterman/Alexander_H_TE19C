{
 "metadata": {
  "language_info": {
   "codemirror_mode": {
    "name": "ipython",
    "version": 3
   },
   "file_extension": ".py",
   "mimetype": "text/x-python",
   "name": "python",
   "nbconvert_exporter": "python",
   "pygments_lexer": "ipython3",
   "version": "3.8.3-final"
  },
  "orig_nbformat": 2,
  "kernelspec": {
   "name": "python_defaultSpec_1600256607003",
   "display_name": "Python 3.8.3 64-bit ('base': conda)"
  }
 },
 "nbformat": 4,
 "nbformat_minor": 2,
 "cells": [
  {
   "cell_type": "code",
   "execution_count": 1,
   "metadata": {
    "tags": []
   },
   "outputs": [
    {
     "output_type": "stream",
     "name": "stdout",
     "text": "Talet är positivt\n"
    }
   ],
   "source": [
    "# uppgift 1: är talet positivt, negativt eller noll\n",
    "\n",
    "tal = int(input(\"Ange ett tal: \"))\n",
    "\n",
    "if tal > 0:\n",
    "    print(\"Talet är positivt\")\n",
    "elif tal == 0:\n",
    "    print(\"Talet är 0\")\n",
    "elif tal < 0:\n",
    "    print(\"Talet är negativt\")\n",
    " "
   ]
  },
  {
   "cell_type": "code",
   "execution_count": 2,
   "metadata": {
    "tags": []
   },
   "outputs": [
    {
     "output_type": "stream",
     "name": "stdout",
     "text": "Talet är udda\n"
    }
   ],
   "source": [
    "# uppgift 2: är talet jämnt, udda eller delbart med 5\n",
    "\n",
    "tal = int(input(\"Ange ett heltal: \")) \n",
    "\n",
    "if tal%2 == 0:\n",
    "    print(\"Talet är jämnt\")\n",
    "elif tal%5 == 0:\n",
    "    print(\"Talet är delbart med 5\")\n",
    "elif tal%2 > 0:\n",
    "    print(\"Talet är udda\")"
   ]
  },
  {
   "cell_type": "code",
   "execution_count": 3,
   "metadata": {
    "tags": []
   },
   "outputs": [
    {
     "output_type": "stream",
     "name": "stdout",
     "text": "Vinkeln är spetsig\n"
    }
   ],
   "source": [
    "#uppgift 4: är vinkeln trubbig, spetsig, rät, rak, konvex eller hel\n",
    "\n",
    "vinkel = int(input(\"Ange en vinkel: \"))\n",
    "\n",
    "if vinkel == 90:\n",
    "    print(\"Vinkeln är rät\")\n",
    "elif 0 < vinkel < 90:\n",
    "    print(\"Vinkeln är spetsig\")\n",
    "elif 90 < vinkel < 180:\n",
    "    print(\"Vinkeln är trubbig\")\n",
    "elif vinkel == 180: \n",
    "    print(\"Vinkeln är rak\")\n",
    "elif 180 < vinkel < 360:\n",
    "    print(\"Vinkeln är konvex\")\n",
    "elif vinkel == 360:\n",
    "    print(\"Vinkeln är hel\")"
   ]
  },
  {
   "cell_type": "code",
   "execution_count": 4,
   "metadata": {
    "tags": []
   },
   "outputs": [
    {
     "output_type": "stream",
     "name": "stdout",
     "text": "Omkretsen är (21, 14)ae och arean är (30, 14)ae\n"
    }
   ],
   "source": [
    "#uppgift 5 skriv in en positiv radie och få ut omkretsen och arean, om det är negativt tal skriv ut ett error meddelande \n",
    "\n",
    "radie = int(input(\"Ange en radie i en cirkel: \"))\n",
    "\n",
    "omkrets = (radie^2)*3,14\n",
    "area = radie*2*3,14\n",
    "\n",
    "if radie > 0:\n",
    "    print(f\"Omkretsen är {omkrets}ae och arean är {area}ae\")\n",
    "elif 0 <= radie:\n",
    "    print(\"Error: skriv in ett positivt tal\")"
   ]
  },
  {
   "cell_type": "code",
   "execution_count": null,
   "metadata": {},
   "outputs": [],
   "source": []
  }
 ]
}