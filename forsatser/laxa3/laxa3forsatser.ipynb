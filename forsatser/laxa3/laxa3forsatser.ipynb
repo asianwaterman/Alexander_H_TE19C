{
 "metadata": {
  "language_info": {
   "codemirror_mode": {
    "name": "ipython",
    "version": 3
   },
   "file_extension": ".py",
   "mimetype": "text/x-python",
   "name": "python",
   "nbconvert_exporter": "python",
   "pygments_lexer": "ipython3",
   "version": "3.8.3-final"
  },
  "orig_nbformat": 2,
  "kernelspec": {
   "name": "Python 3.8.3 64-bit ('base': conda)",
   "display_name": "Python 3.8.3 64-bit ('base': conda)",
   "metadata": {
    "interpreter": {
     "hash": "1ac8037a84088f45a7e3ea4484c3717017a662ee28aa9a2809eaac560ae046b3"
    }
   }
  }
 },
 "nbformat": 4,
 "nbformat_minor": 2,
 "cells": [
  {
   "cell_type": "code",
   "execution_count": 1,
   "metadata": {
    "tags": []
   },
   "outputs": [
    {
     "output_type": "stream",
     "name": "stdout",
     "text": "1 2 3 4 5 6 7 8 9 10"
    }
   ],
   "source": [
    "#uppgift 1 a)\n",
    "\n",
    "\n",
    "for i in range(1,11):\n",
    "    print(i, end = \" \")\n"
   ]
  },
  {
   "cell_type": "code",
   "execution_count": 10,
   "metadata": {
    "tags": []
   },
   "outputs": [
    {
     "output_type": "stream",
     "name": "stdout",
     "text": "-10 -9 -8 -7 -6 -5 -4 -3 -2 -1 0 1 2 3 4 5 6 7 8 9 10"
    }
   ],
   "source": [
    "#uppgift 1 b)\n",
    "\n",
    "for i in range(-10,11):\n",
    "    print(i, end = \" \")"
   ]
  },
  {
   "cell_type": "code",
   "execution_count": 9,
   "metadata": {
    "tags": []
   },
   "outputs": [
    {
     "output_type": "stream",
     "name": "stdout",
     "text": "-10 -9 -8 -7 -6 -5 -4 -3 -2 -1 0"
    }
   ],
   "source": [
    "#uppgift 1 c)\n",
    "\n",
    "for i in range(-10,1):\n",
    "    print(i, end = \" \")"
   ]
  },
  {
   "cell_type": "code",
   "execution_count": 1,
   "metadata": {
    "tags": []
   },
   "outputs": [
    {
     "output_type": "stream",
     "name": "stdout",
     "text": "1+2+3...+100 = 5050\n"
    }
   ],
   "source": [
    "#uppgift 3 s = 1 + 2 + 3 + ... + 100\n",
    "\n",
    "s = 0 \n",
    "\n",
    "for i in range(101):\n",
    "    s += i \n",
    "print(f\"1+2+3...+100 = {s}\")\n"
   ]
  },
  {
   "cell_type": "code",
   "execution_count": 1,
   "metadata": {
    "tags": []
   },
   "outputs": [
    {
     "output_type": "stream",
     "name": "stdout",
     "text": "s = 1+3+5...+99 = 2450\n"
    }
   ],
   "source": [
    "#4\n",
    "s = 0\n",
    "\n",
    "for i in range(0,100,2):\n",
    "    s += i\n",
    "\n",
    "print(f\"s = 1+3+5...+99 = {s}\")"
   ]
  },
  {
   "cell_type": "code",
   "execution_count": 7,
   "metadata": {
    "tags": []
   },
   "outputs": [
    {
     "output_type": "stream",
     "name": "stdout",
     "text": "5 10 15 20 25 30 35 40 45 50"
    }
   ],
   "source": [
    "#5 a)\n",
    "\n",
    "\n",
    "s = 5\n",
    "\n",
    "for i in range (1,11):\n",
    "    i*=s\n",
    "    print(i, end = \" \")"
   ]
  },
  {
   "cell_type": "code",
   "execution_count": 3,
   "metadata": {
    "tags": []
   },
   "outputs": [
    {
     "output_type": "stream",
     "name": "stdout",
     "text": "10.0 20.0 30.0 40.0 50.0 60.0 70.0 80.0 90.0 100.0 "
    }
   ],
   "source": [
    "#5 b)\n",
    "\n",
    "s = float(input(\"Vilken multiplikationstabell vill du ha uträcknad?: \"))\n",
    "\n",
    "for i in range (1,11):\n",
    "    i*=s\n",
    "    print(i, end = \" \")"
   ]
  },
  {
   "cell_type": "code",
   "execution_count": null,
   "metadata": {},
   "outputs": [],
   "source": []
  },
  {
   "cell_type": "code",
   "execution_count": null,
   "metadata": {},
   "outputs": [],
   "source": []
  }
 ]
}