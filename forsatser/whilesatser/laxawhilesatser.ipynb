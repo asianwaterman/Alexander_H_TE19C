{
 "metadata": {
  "language_info": {
   "codemirror_mode": {
    "name": "ipython",
    "version": 3
   },
   "file_extension": ".py",
   "mimetype": "text/x-python",
   "name": "python",
   "nbconvert_exporter": "python",
   "pygments_lexer": "ipython3",
   "version": "3.8.3-final"
  },
  "orig_nbformat": 2,
  "kernelspec": {
   "name": "Python 3.8.3 64-bit ('alexander.harju': virtualenv)",
   "display_name": "Python 3.8.3 64-bit ('alexander.harju': virtualenv)",
   "metadata": {
    "interpreter": {
     "hash": "1ac8037a84088f45a7e3ea4484c3717017a662ee28aa9a2809eaac560ae046b3"
    }
   }
  }
 },
 "nbformat": 4,
 "nbformat_minor": 2,
 "cells": [
  {
   "cell_type": "code",
   "execution_count": null,
   "metadata": {},
   "outputs": [],
   "source": [
    "# uppgift 1\n",
    "\n",
    "s = 0\n",
    "\n",
    "while i <=100:\n",
    "    s += i\n",
    "    print(f\"1+2+3...+100 = {s}\")"
   ]
  }
 ]
}