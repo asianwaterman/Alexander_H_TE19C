{
 "metadata": {
  "language_info": {
   "codemirror_mode": {
    "name": "ipython",
    "version": 3
   },
   "file_extension": ".py",
   "mimetype": "text/x-python",
   "name": "python",
   "nbconvert_exporter": "python",
   "pygments_lexer": "ipython3",
   "version": "3.8.3-final"
  },
  "orig_nbformat": 2,
  "kernelspec": {
   "name": "Python 3.8.3 64-bit ('base': conda)",
   "display_name": "Python 3.8.3 64-bit ('base': conda)",
   "metadata": {
    "interpreter": {
     "hash": "1ac8037a84088f45a7e3ea4484c3717017a662ee28aa9a2809eaac560ae046b3"
    }
   }
  }
 },
 "nbformat": 4,
 "nbformat_minor": 2,
 "cells": [
  {
   "cell_type": "code",
   "execution_count": 6,
   "metadata": {},
   "outputs": [
    {
     "output_type": "stream",
     "name": "stdout",
     "text": [
      "1+2+3+...+100 = 5050\n"
     ]
    }
   ],
   "source": [
    "#uppgift 1\n",
    "\n",
    "s = 0\n",
    "n = 1\n",
    "while n <= 100:\n",
    "    s += n\n",
    "    n += 1\n",
    "\n",
    "print(f\"1+2+3+...+100 = {s}\")"
   ]
  },
  {
   "cell_type": "code",
   "execution_count": 13,
   "metadata": {},
   "outputs": [
    {
     "output_type": "stream",
     "name": "stdout",
     "text": [
      "1+3+5...+99 = 2500\n"
     ]
    }
   ],
   "source": [
    "#uppgift 2\n",
    "\n",
    "s = 0\n",
    "n = 1\n",
    "while n <= 100:\n",
    "    s += n\n",
    "    n += 2\n",
    "\n",
    "print(f\"1+3+5...+99 = {s}\")"
   ]
  },
  {
   "cell_type": "code",
   "execution_count": 15,
   "metadata": {},
   "outputs": [
    {
     "output_type": "error",
     "ename": "SyntaxError",
     "evalue": "EOL while scanning string literal (<ipython-input-15-a08c6ee87fdb>, line 9)",
     "traceback": [
      "\u001b[1;36m  File \u001b[1;32m\"<ipython-input-15-a08c6ee87fdb>\"\u001b[1;36m, line \u001b[1;32m9\u001b[0m\n\u001b[1;33m    print(f\"1/n**-2 = {s})\u001b[0m\n\u001b[1;37m                          ^\u001b[0m\n\u001b[1;31mSyntaxError\u001b[0m\u001b[1;31m:\u001b[0m EOL while scanning string literal\n"
     ]
    }
   ],
   "source": [
    "#uppgift 3\n",
    "\n",
    "s = 0\n",
    "n = 1\n",
    "while n <= 100:\n",
    "    s =*n\n",
    "    n +=-2\n",
    "\n",
    "print(f\"1/n**-2 = {s})"
   ]
  },
  {
   "cell_type": "code",
   "execution_count": null,
   "metadata": {},
   "outputs": [],
   "source": []
  }
 ]
}