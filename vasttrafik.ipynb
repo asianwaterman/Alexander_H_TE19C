{
 "metadata": {
  "language_info": {
   "codemirror_mode": {
    "name": "ipython",
    "version": 3
   },
   "file_extension": ".py",
   "mimetype": "text/x-python",
   "name": "python",
   "nbconvert_exporter": "python",
   "pygments_lexer": "ipython3",
   "version": "3.8.3-final"
  },
  "orig_nbformat": 2,
  "kernelspec": {
   "name": "python_defaultSpec_1599652772563",
   "display_name": "Python 3.8.3 64-bit ('base': conda)"
  }
 },
 "nbformat": 4,
 "nbformat_minor": 2,
 "cells": [
  {
   "cell_type": "code",
   "execution_count": 2,
   "metadata": {
    "tags": []
   },
   "outputs": [
    {
     "output_type": "stream",
     "name": "stdout",
     "text": "20.0ggr = 600.0kr med engångsbiljetter\n"
    }
   ],
   "source": [
    "Antal = float(input(\"Hur många gånger åker du med Västtrafik?: \"))\n",
    "Kostnad = Antal*30\n",
    "\n",
    "print(f\"{Antal}ggr = {Kostnad}kr med engångsbiljetter\" )"
   ]
  },
  {
   "cell_type": "code",
   "execution_count": null,
   "metadata": {},
   "outputs": [],
   "source": [
    "Celcius = float(input(\"Ange ett värde i Celcius: \"))\n",
    "Kelvin = Celcius+273.15\n",
    "\n",
    "print(f\"{Celcius}C = {Kelvin}K\" )"
   ]
  },
  {
   "cell_type": "code",
   "execution_count": null,
   "metadata": {},
   "outputs": [],
   "source": [
    "Kelvin = float(input(\"Ange ett värde i Kelvin: \"))\n",
    "Celcius = Kelvin-273.15\n",
    "\n",
    "print(f\"{Kelvin}K = {Celcius}C\" )"
   ]
  },
  {
   "cell_type": "code",
   "execution_count": null,
   "metadata": {},
   "outputs": [],
   "source": [
    "#Om man åker fler än 25 gånger borde man ha månadskort\n",
    "\n",
    "Antal = float(input(\"Hur många gåmger åker du med Västtrafik?: \"))\n",
    "månadskort = 775\n",
    "engångskort = 30 # kommentar\n",
    "\n",
    "if Antal > 25:\n",
    "    print(f\"Du känar på att köpa månadskort\")\n",
    "else:\n",
    "    print(f\"Du känar inte på att köpa månadskort\")"
   ]
  }
 ]
}