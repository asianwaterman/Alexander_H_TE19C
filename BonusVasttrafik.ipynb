{
 "metadata": {
  "language_info": {
   "codemirror_mode": {
    "name": "ipython",
    "version": 3
   },
   "file_extension": ".py",
   "mimetype": "text/x-python",
   "name": "python",
   "nbconvert_exporter": "python",
   "pygments_lexer": "ipython3",
   "version": "3.8.3-final"
  },
  "orig_nbformat": 2,
  "kernelspec": {
   "name": "python_defaultSpec_1599651174740",
   "display_name": "Python 3.8.3 64-bit ('base': conda)"
  }
 },
 "nbformat": 4,
 "nbformat_minor": 2,
 "cells": [
  {
   "cell_type": "code",
   "execution_count": 3,
   "metadata": {
    "tags": []
   },
   "outputs": [
    {
     "output_type": "stream",
     "name": "stdout",
     "text": "Du känar på att köpa månadskort\n"
    }
   ],
   "source": [
    "#Om man åker fler än 25 gånger borde man ha månadskort\n",
    "\n",
    "Antal = float(input(\"Hur många gåmger åker du med Västtrafik?: \"))\n",
    "månadskort = 775\n",
    "engångskort = 30 # kommentar\n",
    "\n",
    "if Antal > 25:\n",
    "    print(f\"Du känar på att köpa månadskort\")\n",
    "else:\n",
    "    print(f\"Du känar inte på att köpa månadskort\")"
   ]
  },
  {
   "cell_type": "code",
   "execution_count": null,
   "metadata": {},
   "outputs": [],
   "source": []
  }
 ]
}